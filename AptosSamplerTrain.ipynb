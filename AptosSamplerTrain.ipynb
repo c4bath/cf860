{
  "nbformat": 4,
  "nbformat_minor": 0,
  "metadata": {
    "colab": {
      "provenance": [],
      "authorship_tag": "ABX9TyO99CUBlCEotaH7Q0PhkiBi",
      "include_colab_link": true
    },
    "kernelspec": {
      "name": "python3",
      "display_name": "Python 3"
    },
    "language_info": {
      "name": "python"
    }
  },
  "cells": [
    {
      "cell_type": "markdown",
      "metadata": {
        "id": "view-in-github",
        "colab_type": "text"
      },
      "source": [
        "<a href=\"https://colab.research.google.com/github/c4bath/cf860/blob/main/AptosSamplerTrain.ipynb\" target=\"_parent\"><img src=\"https://colab.research.google.com/assets/colab-badge.svg\" alt=\"Open In Colab\"/></a>"
      ]
    },
    {
      "cell_type": "markdown",
      "source": [
        "# APTOS 2019 Blindness Detection Dataset\n",
        "\n",
        "Sampling (for compute and memory resource constraints):\n",
        "\n",
        "* 10% of the 3,662 images from the initial APTOS train_images\n",
        "\n",
        "* creates .csv file train_small with 'id_code' and 'diagnosis' for the corresponding sample set\n",
        "\n",
        "* Original class balances preserved\n",
        "\n",
        "A clinician has rated each image for the severity of diabetic retinopathy on a scale of 0 to 4:\n",
        "\n",
        "0 - No DR\n",
        "\n",
        "1 - Mild\n",
        "\n",
        "2 - Moderate\n",
        "\n",
        "3 - Severe\n",
        "\n",
        "4 - Proliferative DR\n",
        "\n",
        "\n",
        "train_small2: 366 files\n",
        "\n"
      ],
      "metadata": {
        "id": "B1tQywtd-URA"
      }
    },
    {
      "cell_type": "code",
      "source": [
        "from google.colab import drive\n",
        "drive.mount('/content/drive')"
      ],
      "metadata": {
        "colab": {
          "base_uri": "https://localhost:8080/"
        },
        "id": "ZNHCX5ODYuiu",
        "outputId": "24554796-a706-4667-b028-7f43bf741d0a"
      },
      "execution_count": 1,
      "outputs": [
        {
          "output_type": "stream",
          "name": "stdout",
          "text": [
            "Drive already mounted at /content/drive; to attempt to forcibly remount, call drive.mount(\"/content/drive\", force_remount=True).\n"
          ]
        }
      ]
    },
    {
      "cell_type": "code",
      "source": [
        "# Import libraries\n",
        "import os\n",
        "import pandas as pd\n",
        "import numpy as np\n",
        "import shutil\n",
        "from sklearn.model_selection import train_test_split\n"
      ],
      "metadata": {
        "id": "_Stwjy6w-yJC"
      },
      "execution_count": 2,
      "outputs": []
    },
    {
      "cell_type": "code",
      "source": [
        "df = pd.read_csv('/content/drive/MyDrive/cfPublicData/aptos2/train.csv')\n"
      ],
      "metadata": {
        "id": "elSXPE9EVd7v"
      },
      "execution_count": 3,
      "outputs": []
    },
    {
      "cell_type": "code",
      "source": [
        "df.info()"
      ],
      "metadata": {
        "colab": {
          "base_uri": "https://localhost:8080/"
        },
        "id": "aRudTjK3Vg2l",
        "outputId": "b3b9a30e-da04-4db1-9531-d1a11c3240e3"
      },
      "execution_count": 4,
      "outputs": [
        {
          "output_type": "stream",
          "name": "stdout",
          "text": [
            "<class 'pandas.core.frame.DataFrame'>\n",
            "RangeIndex: 3662 entries, 0 to 3661\n",
            "Data columns (total 2 columns):\n",
            " #   Column     Non-Null Count  Dtype \n",
            "---  ------     --------------  ----- \n",
            " 0   id_code    3662 non-null   object\n",
            " 1   diagnosis  3662 non-null   int64 \n",
            "dtypes: int64(1), object(1)\n",
            "memory usage: 57.3+ KB\n"
          ]
        }
      ]
    },
    {
      "cell_type": "code",
      "source": [
        "source_dir = '/content/drive/MyDrive/cfPublicData/aptos2/train_images/'\n",
        "destination_dir = '/content/drive/MyDrive/cfPublicData/aptos2/train_small2/'\n",
        "if not os.path.exists(destination_dir):\n",
        "    os.makedirs(destination_dir)\n"
      ],
      "metadata": {
        "id": "akXO1yekVl9u"
      },
      "execution_count": 5,
      "outputs": []
    },
    {
      "cell_type": "code",
      "source": [
        "class_counts = df['diagnosis'].value_counts()\n",
        "small_set_counts = (class_counts * 0.1).round().astype(int)"
      ],
      "metadata": {
        "id": "w18v5ATPVsY4"
      },
      "execution_count": 6,
      "outputs": []
    },
    {
      "cell_type": "code",
      "source": [
        "train_small_df = pd.DataFrame()\n",
        "for diagnosis in small_set_counts.index:\n",
        "    # Get a subset of the dataframe with the current diagnosis\n",
        "    subset_df = df[df['diagnosis'] == diagnosis]\n",
        "    # Perform stratified split to maintain class balance\n",
        "    _, small_subset_df = train_test_split(\n",
        "        subset_df,\n",
        "        test_size=small_set_counts[diagnosis],\n",
        "        random_state=27,\n",
        "        stratify=subset_df['diagnosis']\n",
        "    )\n",
        "    train_small_df = pd.concat([train_small_df, small_subset_df])"
      ],
      "metadata": {
        "id": "Oypn5EMJVshB"
      },
      "execution_count": 7,
      "outputs": []
    },
    {
      "cell_type": "code",
      "source": [
        "for index, row in train_small_df.iterrows():\n",
        "    filename = row['id_code'] + '.png'\n",
        "    shutil.copy(os.path.join(source_dir, filename), os.path.join(destination_dir, filename))\n"
      ],
      "metadata": {
        "id": "MI_1OzQ7VskW"
      },
      "execution_count": 8,
      "outputs": []
    },
    {
      "cell_type": "code",
      "source": [
        "train_small_df.to_csv('/content/drive/MyDrive/cfPublicData/aptos2/train_small2.csv', index=False)"
      ],
      "metadata": {
        "id": "Fr-ljUjbVsne"
      },
      "execution_count": 9,
      "outputs": []
    },
    {
      "cell_type": "code",
      "source": [
        "print(\"Class distribution in the original data:\")\n",
        "print(df['diagnosis'].value_counts(normalize=True))\n",
        "\n",
        "print(\"\\nClass distribution in the sampled data (10%):\")\n",
        "print(train_small_df['diagnosis'].value_counts(normalize=True))\n",
        "print(train_small_df.info())"
      ],
      "metadata": {
        "colab": {
          "base_uri": "https://localhost:8080/"
        },
        "id": "-3JywKlEVsqe",
        "outputId": "1abca555-2cd1-41e6-81cb-6b4feab8402a"
      },
      "execution_count": 14,
      "outputs": [
        {
          "output_type": "stream",
          "name": "stdout",
          "text": [
            "Class distribution in the original data:\n",
            "0    0.492900\n",
            "2    0.272802\n",
            "1    0.101038\n",
            "4    0.080557\n",
            "3    0.052703\n",
            "Name: diagnosis, dtype: float64\n",
            "\n",
            "Class distribution in the sampled data (10%):\n",
            "0    0.491803\n",
            "2    0.273224\n",
            "1    0.101093\n",
            "4    0.081967\n",
            "3    0.051913\n",
            "Name: diagnosis, dtype: float64\n",
            "<class 'pandas.core.frame.DataFrame'>\n",
            "Int64Index: 366 entries, 2779 to 3531\n",
            "Data columns (total 2 columns):\n",
            " #   Column     Non-Null Count  Dtype \n",
            "---  ------     --------------  ----- \n",
            " 0   id_code    366 non-null    object\n",
            " 1   diagnosis  366 non-null    int64 \n",
            "dtypes: int64(1), object(1)\n",
            "memory usage: 8.6+ KB\n",
            "None\n"
          ]
        }
      ]
    }
  ]
}