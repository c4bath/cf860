{
  "nbformat": 4,
  "nbformat_minor": 0,
  "metadata": {
    "colab": {
      "provenance": [],
      "include_colab_link": true
    },
    "kernelspec": {
      "name": "python3",
      "display_name": "Python 3"
    },
    "language_info": {
      "name": "python"
    }
  },
  "cells": [
    {
      "cell_type": "markdown",
      "metadata": {
        "id": "view-in-github",
        "colab_type": "text"
      },
      "source": [
        "<a href=\"https://colab.research.google.com/github/c4bath/cf860/blob/main/DR_Detect_eyePACs_CLAHE_preprocessing.ipynb\" target=\"_parent\"><img src=\"https://colab.research.google.com/assets/colab-badge.svg\" alt=\"Open In Colab\"/></a>"
      ]
    },
    {
      "cell_type": "markdown",
      "source": [
        "File Details\n",
        "\n",
        "Function: Apply Contrast Limited AHE (CLAHE) to the DR Detect Eyepacs secondary test dataset images and save as new image files and numpy arrays for training, validation and testing\n",
        "\n",
        "\n",
        "\n",
        "\n",
        "\n",
        "\n"
      ],
      "metadata": {
        "id": "DvpGGxqCRNUp"
      }
    },
    {
      "cell_type": "code",
      "source": [
        "# mount google drive\n",
        "from google.colab import drive\n",
        "drive.mount('/content/drive')"
      ],
      "metadata": {
        "colab": {
          "base_uri": "https://localhost:8080/"
        },
        "id": "I3otG4aOROaN",
        "outputId": "0e33ce5c-7df4-4b04-c167-1b338c167266"
      },
      "execution_count": null,
      "outputs": [
        {
          "output_type": "stream",
          "name": "stdout",
          "text": [
            "Mounted at /content/drive\n"
          ]
        }
      ]
    },
    {
      "cell_type": "code",
      "source": [
        "import numpy as np\n",
        "import cv2\n",
        "import os\n",
        "\n",
        "def preprocess_image(path, IMG_SIZE, sigmaX=10):\n",
        "    img = cv2.imread(path)\n",
        "    img = cv2.resize(img, (IMG_SIZE, IMG_SIZE))\n",
        "\n",
        "    # Apply CLAHE\n",
        "    img_lab = cv2.cvtColor(img, cv2.COLOR_BGR2LAB)\n",
        "    l, a, b = cv2.split(img_lab)\n",
        "    clahe = cv2.createCLAHE(clipLimit=3.0, tileGridSize=(8, 8))\n",
        "    l_clahe = clahe.apply(l)\n",
        "    limg = cv2.merge([l_clahe, a, b])\n",
        "    img_clahe = cv2.cvtColor(limg, cv2.COLOR_LAB2RGB)\n",
        "\n",
        "    return img_clahe\n",
        "\n",
        "source_folder = '/content/drive/MyDrive/minitest'\n",
        "processed_images = []  # List to hold the processed images\n",
        "\n",
        "for filename in os.listdir(source_folder):\n",
        "    if filename.endswith(\".jpeg\"):\n",
        "        img_path = os.path.join(source_folder, filename)\n",
        "        processed_img = preprocess_image(img_path, IMG_SIZE=224)  # Specify your image size\n",
        "        processed_images.append(processed_img)\n",
        "\n",
        "# Convert the list of images to a single NumPy array\n",
        "all_images_array = np.array(processed_images)\n",
        "\n",
        "# Save the array to a file\n",
        "np.save('/content/drive/MyDrive/eyepacs/eyepacs.npy', all_images_array)\n",
        "\n",
        "\n"
      ],
      "metadata": {
        "id": "bvsfF7YAc3RY"
      },
      "execution_count": null,
      "outputs": []
    },
    {
      "cell_type": "code",
      "source": [
        "source_folder = '/content/drive/MyDrive/minitest'\n",
        "destination_folder = '/content/drive/MyDrive/eyepacs'\n",
        "\n",
        "if not os.path.exists(destination_folder):\n",
        "    os.makedirs(destination_folder)\n",
        "\n",
        "for filename in os.listdir(source_folder):\n",
        "    if filename.endswith(\".jpeg\"):\n",
        "        img_path = os.path.join(source_folder, filename)\n",
        "        processed_img = preprocess_image(img_path, IMG_SIZE=224) # Specify your image size\n",
        "        cv2.imwrite(os.path.join(destination_folder, filename), cv2.cvtColor(processed_img, cv2.COLOR_RGB2BGR))\n"
      ],
      "metadata": {
        "id": "mY7ka46Sc3U3"
      },
      "execution_count": null,
      "outputs": []
    }
  ]
}