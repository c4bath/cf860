{
  "nbformat": 4,
  "nbformat_minor": 0,
  "metadata": {
    "colab": {
      "provenance": [],
      "authorship_tag": "ABX9TyNNZHbKl7//97NeIof7IUZU",
      "include_colab_link": true
    },
    "kernelspec": {
      "name": "python3",
      "display_name": "Python 3"
    },
    "language_info": {
      "name": "python"
    }
  },
  "cells": [
    {
      "cell_type": "markdown",
      "metadata": {
        "id": "view-in-github",
        "colab_type": "text"
      },
      "source": [
        "<a href=\"https://colab.research.google.com/github/c4bath/cf860/blob/main/AptosSampler.ipynb\" target=\"_parent\"><img src=\"https://colab.research.google.com/assets/colab-badge.svg\" alt=\"Open In Colab\"/></a>"
      ]
    },
    {
      "cell_type": "markdown",
      "source": [
        "# APTOS 2019 Blindness Detection Dataset\n",
        "\n",
        "Sampling (for compute and memory resource constraints):\n",
        "\n",
        "* 10% of the 3,662 images from the initial APTOS training set split 70/30 into train_small and test_small\n",
        "\n",
        "* creates .csv files train_small and test_small with 'id_code' and 'diagnosis' for the corresponding sample sets\n",
        "\n",
        "* Original class balances preserved\n",
        "\n",
        "A clinician has rated each image for the severity of diabetic retinopathy on a scale of 0 to 4:\n",
        "\n",
        "0 - No DR\n",
        "\n",
        "1 - Mild\n",
        "\n",
        "2 - Moderate\n",
        "\n",
        "3 - Severe\n",
        "\n",
        "4 - Proliferative DR\n",
        "\n",
        "\n",
        "train_small: 256 files\n",
        "\n",
        "test_small: 110 files\n",
        "\n"
      ],
      "metadata": {
        "id": "B1tQywtd-URA"
      }
    },
    {
      "cell_type": "code",
      "source": [
        "from google.colab import drive\n",
        "drive.mount('/content/drive')"
      ],
      "metadata": {
        "colab": {
          "base_uri": "https://localhost:8080/"
        },
        "id": "ZNHCX5ODYuiu",
        "outputId": "0dc238d8-d8cd-44fb-d06d-f1df16d02b7e"
      },
      "execution_count": 1,
      "outputs": [
        {
          "output_type": "stream",
          "name": "stdout",
          "text": [
            "Mounted at /content/drive\n"
          ]
        }
      ]
    },
    {
      "cell_type": "code",
      "source": [
        "# Import libraries\n",
        "import os\n",
        "import pandas as pd\n",
        "import numpy as np\n",
        "import shutil\n",
        "from sklearn.model_selection import train_test_split\n"
      ],
      "metadata": {
        "id": "_Stwjy6w-yJC"
      },
      "execution_count": 5,
      "outputs": []
    },
    {
      "cell_type": "code",
      "source": [
        "data_dir = '/content/drive/MyDrive/cfPublicData/aptos2'\n",
        "image_dir = f'{data_dir}/train_images'\n",
        "csv_file = f'{data_dir}/train.csv'\n",
        "train_small_dir = f'{data_dir}/train_small'\n",
        "test_small_dir = f'{data_dir}/test_small'"
      ],
      "metadata": {
        "id": "-Ox6bFARLxI4"
      },
      "execution_count": 3,
      "outputs": []
    },
    {
      "cell_type": "code",
      "source": [
        "os.makedirs(train_small_dir, exist_ok=True)\n",
        "os.makedirs(test_small_dir, exist_ok=True)\n",
        "\n",
        "# Read the CSV file\n",
        "df = pd.read_csv(csv_file)\n",
        "\n",
        "# Calculate 10% of the data\n",
        "sample_size = int(0.1 * len(df))\n",
        "\n",
        "# Stratify to maintain class balance\n",
        "df_sampled = df.groupby('diagnosis', group_keys=False).apply(lambda x: x.sample(int(np.rint(0.1*len(x))))).reset_index(drop=True)\n",
        "\n",
        "# Split the sampled data into 70% train and 30% test with stratification\n",
        "train_df, test_df = train_test_split(df_sampled, test_size=0.3, stratify=df_sampled['diagnosis'], random_state=27)\n",
        "\n",
        "train_small_csv = f'{data_dir}/train_small.csv'\n",
        "test_small_csv = f'{data_dir}/test_small.csv'\n",
        "\n",
        "# Save to CSV\n",
        "train_df.to_csv(train_small_csv, index=False)\n",
        "test_df.to_csv(test_small_csv, index=False)\n",
        "\n",
        "# Function to copy images to the respective directories\n",
        "def copy_images(df, source_dir, dest_dir):\n",
        "    for idx, row in df.iterrows():\n",
        "        src_path = os.path.join(source_dir, row['id_code'] + '.png')\n",
        "        dst_path = os.path.join(dest_dir, row['id_code'] + '.png')\n",
        "        shutil.copy(src_path, dst_path)\n"
      ],
      "metadata": {
        "id": "AcAtOmsOL5F3"
      },
      "execution_count": 6,
      "outputs": []
    },
    {
      "cell_type": "code",
      "source": [
        "copy_images(train_df, image_dir, train_small_dir)\n",
        "copy_images(test_df, image_dir, test_small_dir)"
      ],
      "metadata": {
        "id": "gjggp7RPMLR3"
      },
      "execution_count": 7,
      "outputs": []
    },
    {
      "cell_type": "code",
      "source": [
        "print(\"Class distribution in the original data:\")\n",
        "print(df['diagnosis'].value_counts(normalize=True))\n",
        "\n",
        "print(\"\\nClass distribution in the sampled data (10%):\")\n",
        "print(df_sampled['diagnosis'].value_counts(normalize=True))\n",
        "\n",
        "print(\"\\nClass distribution in the train_small subset (70% of 10%):\")\n",
        "print(train_df['diagnosis'].value_counts(normalize=True))\n",
        "\n",
        "print(\"\\nClass distribution in the test_small subset (30% of 10%):\")\n",
        "print(test_df['diagnosis'].value_counts(normalize=True))\n",
        "\n",
        "print(f'\\nCopied {len(train_df)} images to {train_small_dir}')\n",
        "print(f'Copied {len(test_df)} images to {test_small_dir}')"
      ],
      "metadata": {
        "colab": {
          "base_uri": "https://localhost:8080/"
        },
        "id": "ZkNnL3k5B5BZ",
        "outputId": "fcafab5a-fce2-4511-fd37-a7a4e3bff1ea"
      },
      "execution_count": 8,
      "outputs": [
        {
          "output_type": "stream",
          "name": "stdout",
          "text": [
            "Class distribution in the original data:\n",
            "0    0.492900\n",
            "2    0.272802\n",
            "1    0.101038\n",
            "4    0.080557\n",
            "3    0.052703\n",
            "Name: diagnosis, dtype: float64\n",
            "\n",
            "Class distribution in the sampled data (10%):\n",
            "0    0.491803\n",
            "2    0.273224\n",
            "1    0.101093\n",
            "4    0.081967\n",
            "3    0.051913\n",
            "Name: diagnosis, dtype: float64\n",
            "\n",
            "Class distribution in the train_small subset (70% of 10%):\n",
            "0    0.492188\n",
            "2    0.273438\n",
            "1    0.101562\n",
            "4    0.082031\n",
            "3    0.050781\n",
            "Name: diagnosis, dtype: float64\n",
            "\n",
            "Class distribution in the test_small subset (30% of 10%):\n",
            "0    0.490909\n",
            "2    0.272727\n",
            "1    0.100000\n",
            "4    0.081818\n",
            "3    0.054545\n",
            "Name: diagnosis, dtype: float64\n",
            "\n",
            "Copied 256 images to /content/drive/MyDrive/cfPublicData/aptos2/train_small\n",
            "Copied 110 images to /content/drive/MyDrive/cfPublicData/aptos2/test_small\n"
          ]
        }
      ]
    }
  ]
}