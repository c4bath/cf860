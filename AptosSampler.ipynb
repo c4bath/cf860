{
  "nbformat": 4,
  "nbformat_minor": 0,
  "metadata": {
    "colab": {
      "provenance": [],
      "authorship_tag": "ABX9TyOaA29P60u5mXH6LCP9Ss/O",
      "include_colab_link": true
    },
    "kernelspec": {
      "name": "python3",
      "display_name": "Python 3"
    },
    "language_info": {
      "name": "python"
    }
  },
  "cells": [
    {
      "cell_type": "markdown",
      "metadata": {
        "id": "view-in-github",
        "colab_type": "text"
      },
      "source": [
        "<a href=\"https://colab.research.google.com/github/c4bath/cf860/blob/main/AptosSampler.ipynb\" target=\"_parent\"><img src=\"https://colab.research.google.com/assets/colab-badge.svg\" alt=\"Open In Colab\"/></a>"
      ]
    },
    {
      "cell_type": "markdown",
      "source": [
        "# APTOS (Asia Pacific Tele-Ophthalmology Society) 2019 Blindness Detection Dataset\n",
        "\n",
        "Sampling (for compute and memory resource constraints):\n",
        "\n",
        "* 10% of the 3,662 images from the initial APTOS training set split 70/30 into train_small and test_small\n",
        "\n",
        "* Original class balances preserved\n",
        "\n",
        "\n",
        "https://www.kaggle.com/competitions/aptos2019-blindness-detection/data\n",
        "\n",
        "A clinician has rated each image for the severity of diabetic retinopathy on a scale of 0 to 4:\n",
        "\n",
        "0 - No DR\n",
        "\n",
        "1 - Mild\n",
        "\n",
        "2 - Moderate\n",
        "\n",
        "3 - Severe\n",
        "\n",
        "4 - Proliferative DR\n",
        "\n",
        "\n",
        "train_small: 256 files\n",
        "\n",
        "test_small: 110 files\n",
        "\n"
      ],
      "metadata": {
        "id": "B1tQywtd-URA"
      }
    },
    {
      "cell_type": "code",
      "execution_count": 1,
      "metadata": {
        "id": "DahgcXTvuK_g"
      },
      "outputs": [],
      "source": [
        "! pip install -q kaggle"
      ]
    },
    {
      "cell_type": "code",
      "source": [
        "from google.colab import drive\n",
        "drive.mount('/content/drive')"
      ],
      "metadata": {
        "colab": {
          "base_uri": "https://localhost:8080/"
        },
        "id": "ZNHCX5ODYuiu",
        "outputId": "d04abc09-e6c8-42e2-e40f-32137ba74c43"
      },
      "execution_count": 2,
      "outputs": [
        {
          "output_type": "stream",
          "name": "stdout",
          "text": [
            "Mounted at /content/drive\n"
          ]
        }
      ]
    },
    {
      "cell_type": "code",
      "source": [
        "# Import libraries\n",
        "import os\n",
        "import pandas as pd\n",
        "import numpy as np\n",
        "import shutil\n",
        "from sklearn.model_selection import StratifiedShuffleSplit\n"
      ],
      "metadata": {
        "id": "_Stwjy6w-yJC"
      },
      "execution_count": 14,
      "outputs": []
    },
    {
      "cell_type": "code",
      "source": [
        "data_dir = '/content/drive/MyDrive/cfPublicData/aptos'\n",
        "image_dir = f'{data_dir}/train_images'\n",
        "csv_file = f'{data_dir}/train.csv'\n",
        "train_small_dir = f'{data_dir}/train_small'\n",
        "test_small_dir = f'{data_dir}/test_small'"
      ],
      "metadata": {
        "id": "-Ox6bFARLxI4"
      },
      "execution_count": 12,
      "outputs": []
    },
    {
      "cell_type": "code",
      "source": [
        "os.makedirs(train_small_dir, exist_ok=True)\n",
        "os.makedirs(test_small_dir, exist_ok=True)\n",
        "\n",
        "# Read the CSV file\n",
        "df = pd.read_csv(csv_file)\n",
        "\n",
        "# Calculate 10% of the data\n",
        "sample_size = int(0.1 * len(df))\n",
        "\n",
        "# Stratify to maintain class balance\n",
        "df_sampled = df.groupby('diagnosis', group_keys=False).apply(lambda x: x.sample(int(np.rint(0.1*len(x))))).reset_index(drop=True)\n",
        "\n",
        "# Split the sampled data into 70% train and 30% test with stratification\n",
        "train_df, test_df = train_test_split(df_sampled, test_size=0.3, stratify=df_sampled['diagnosis'], random_state=27)\n",
        "\n",
        "# Function to copy images to the respective directories\n",
        "def copy_images(df, source_dir, dest_dir):\n",
        "    for idx, row in df.iterrows():\n",
        "        src_path = os.path.join(source_dir, row['id_code'] + '.png')\n",
        "        dst_path = os.path.join(dest_dir, row['id_code'] + '.png')\n",
        "        shutil.copy(src_path, dst_path)\n"
      ],
      "metadata": {
        "id": "AcAtOmsOL5F3"
      },
      "execution_count": 20,
      "outputs": []
    },
    {
      "cell_type": "code",
      "source": [
        "copy_images(train_df, image_dir, train_small_dir)\n",
        "copy_images(test_df, image_dir, test_small_dir)"
      ],
      "metadata": {
        "id": "gjggp7RPMLR3"
      },
      "execution_count": 21,
      "outputs": []
    },
    {
      "cell_type": "code",
      "source": [
        "print(\"Class distribution in the original data:\")\n",
        "print(df['diagnosis'].value_counts(normalize=True))\n",
        "\n",
        "print(\"\\nClass distribution in the sampled data (10%):\")\n",
        "print(df_sampled['diagnosis'].value_counts(normalize=True))\n",
        "\n",
        "print(\"\\nClass distribution in the train_small subset (70% of 10%):\")\n",
        "print(train_df['diagnosis'].value_counts(normalize=True))\n",
        "\n",
        "print(\"\\nClass distribution in the test_small subset (30% of 10%):\")\n",
        "print(test_df['diagnosis'].value_counts(normalize=True))\n",
        "\n",
        "print(f'\\nCopied {len(train_df)} images to {train_small_dir}')\n",
        "print(f'Copied {len(test_df)} images to {test_small_dir}')"
      ],
      "metadata": {
        "colab": {
          "base_uri": "https://localhost:8080/"
        },
        "id": "ZkNnL3k5B5BZ",
        "outputId": "37045e02-3420-4c43-f9d4-e267fd600b1b"
      },
      "execution_count": 17,
      "outputs": [
        {
          "output_type": "stream",
          "name": "stdout",
          "text": [
            "Class distribution in the original data:\n",
            "0    0.492900\n",
            "2    0.272802\n",
            "1    0.101038\n",
            "4    0.080557\n",
            "3    0.052703\n",
            "Name: diagnosis, dtype: float64\n",
            "\n",
            "Class distribution in the sampled data (10%):\n",
            "0    0.491803\n",
            "2    0.273224\n",
            "1    0.101093\n",
            "4    0.081967\n",
            "3    0.051913\n",
            "Name: diagnosis, dtype: float64\n",
            "\n",
            "Class distribution in the train_small subset (70% of 10%):\n",
            "0    0.492188\n",
            "2    0.273438\n",
            "1    0.101562\n",
            "4    0.082031\n",
            "3    0.050781\n",
            "Name: diagnosis, dtype: float64\n",
            "\n",
            "Class distribution in the test_small subset (30% of 10%):\n",
            "0    0.490909\n",
            "2    0.272727\n",
            "1    0.100000\n",
            "4    0.081818\n",
            "3    0.054545\n",
            "Name: diagnosis, dtype: float64\n",
            "\n",
            "Copied 256 images to /content/drive/MyDrive/cfPublicData/aptos/train_small\n",
            "Copied 110 images to /content/drive/MyDrive/cfPublicData/aptos/test_small\n"
          ]
        }
      ]
    },
    {
      "cell_type": "code",
      "source": [],
      "metadata": {
        "id": "-RKcdHWaB5Ed"
      },
      "execution_count": null,
      "outputs": []
    },
    {
      "cell_type": "code",
      "source": [],
      "metadata": {
        "id": "LOKPspJOB5Hh"
      },
      "execution_count": null,
      "outputs": []
    },
    {
      "cell_type": "code",
      "source": [
        "print(tf.test.gpu_device_name())"
      ],
      "metadata": {
        "colab": {
          "base_uri": "https://localhost:8080/"
        },
        "id": "OlxPDd1MRl3q",
        "outputId": "172530df-c6b1-478c-8b9d-a056f8ef439f"
      },
      "execution_count": null,
      "outputs": [
        {
          "output_type": "stream",
          "name": "stdout",
          "text": [
            "/device:GPU:0\n"
          ]
        }
      ]
    },
    {
      "cell_type": "code",
      "source": [
        "! cp /content/drive/MyDrive/kaggle/kaggle.json ~/.kaggle"
      ],
      "metadata": {
        "id": "ii6qKLhWbisd"
      },
      "execution_count": null,
      "outputs": []
    },
    {
      "cell_type": "code",
      "source": [
        "! kaggle kernels output harshavardhanbabu/keras-densenet-aptos -p '/content/drive/MyDrive/cfPublicData/aptos/input'"
      ],
      "metadata": {
        "colab": {
          "base_uri": "https://localhost:8080/"
        },
        "id": "acsW52y6MV4x",
        "outputId": "9fec5613-7b69-4931-fa0d-c36d05f14ef2"
      },
      "execution_count": null,
      "outputs": [
        {
          "output_type": "stream",
          "name": "stdout",
          "text": [
            "Kernel log downloaded to /content/drive/MyDrive/cfPublicData/aptos/input/keras-densenet-aptos.log \n"
          ]
        }
      ]
    },
    {
      "cell_type": "code",
      "source": [
        "# borrowed from https://www.kaggle.com/mathormad/aptos-resnet50-baseline\n",
        "class QWKCallback(Callback):\n",
        "    def __init__(self,validation_data):\n",
        "        super(Callback, self).__init__()\n",
        "        self.X = validation_data[0]\n",
        "        self.Y = validation_data[1]\n",
        "        self.history = []\n",
        "    def on_epoch_end(self, epoch, logs={}):\n",
        "        pred = self.model.predict(self.X)\n",
        "        score = cohen_kappa_score(np.argmax(self.Y,axis=1),np.argmax(pred,axis=1),labels=[0,1,2,3,4],weights='quadratic')\n",
        "        print(\"Epoch {} : QWK: {}\".format(epoch,score))\n",
        "        self.history.append(score)\n",
        "        if score >= max(self.history):\n",
        "            print('saving checkpoint: ', score)\n",
        "            self.model.save('/content/drive/MyDrive/cfPublicData/aptos/working/Resnet50_bestqwk.h5')"
      ],
      "metadata": {
        "id": "eXrks3umGsjO"
      },
      "execution_count": null,
      "outputs": []
    },
    {
      "cell_type": "code",
      "source": [
        "# borrowed from https://github.com/yu4u/mixup-generator\n",
        "class MixupGenerator():\n",
        "    def __init__(self, X_train, y_train, batch_size=32, alpha=0.2, shuffle=True, datagen=None):\n",
        "        self.X_train = X_train\n",
        "        self.y_train = y_train\n",
        "        self.batch_size = batch_size\n",
        "        self.alpha = alpha\n",
        "        self.shuffle = shuffle\n",
        "        self.sample_num = len(X_train)\n",
        "        self.datagen = datagen\n",
        "\n",
        "    def __call__(self):\n",
        "        while True:\n",
        "            indexes = self.__get_exploration_order()\n",
        "            itr_num = int(len(indexes) // (self.batch_size * 2))\n",
        "\n",
        "            for i in range(itr_num):\n",
        "                batch_ids = indexes[i * self.batch_size * 2:(i + 1) * self.batch_size * 2]\n",
        "                X, y = self.__data_generation(batch_ids)\n",
        "\n",
        "                yield X, y\n",
        "\n",
        "    def __get_exploration_order(self):\n",
        "        indexes = np.arange(self.sample_num)\n",
        "\n",
        "        if self.shuffle:\n",
        "            np.random.shuffle(indexes)\n",
        "\n",
        "        return indexes\n",
        "\n",
        "    def __data_generation(self, batch_ids):\n",
        "        _, h, w, c = self.X_train.shape\n",
        "        l = np.random.beta(self.alpha, self.alpha, self.batch_size)\n",
        "        X_l = l.reshape(self.batch_size, 1, 1, 1)\n",
        "        y_l = l.reshape(self.batch_size, 1)\n",
        "\n",
        "        X1 = self.X_train[batch_ids[:self.batch_size]]\n",
        "        X2 = self.X_train[batch_ids[self.batch_size:]]\n",
        "        X = X1 * X_l + X2 * (1 - X_l)\n",
        "\n",
        "        if self.datagen:\n",
        "            for i in range(self.batch_size):\n",
        "                X[i] = self.datagen.random_transform(X[i])\n",
        "                X[i] = self.datagen.standardize(X[i])\n",
        "\n",
        "        if isinstance(self.y_train, list):\n",
        "            y = []\n",
        "\n",
        "            for y_train_ in self.y_train:\n",
        "                y1 = y_train_[batch_ids[:self.batch_size]]\n",
        "                y2 = y_train_[batch_ids[self.batch_size:]]\n",
        "                y.append(y1 * y_l + y2 * (1 - y_l))\n",
        "        else:\n",
        "            y1 = self.y_train[batch_ids[:self.batch_size]]\n",
        "            y2 = self.y_train[batch_ids[self.batch_size:]]\n",
        "            y = y1 * y_l + y2 * (1 - y_l)\n",
        "\n",
        "        return X, y"
      ],
      "metadata": {
        "id": "53srSf9SGyOi"
      },
      "execution_count": null,
      "outputs": []
    },
    {
      "cell_type": "code",
      "source": [
        "# borrowed from scikit learn\n",
        "def plot_confusion_matrix(y_true, y_pred, classes,\n",
        "                          normalize=False,\n",
        "                          title=None,\n",
        "                          cmap=plt.cm.Blues):\n",
        "    \"\"\"\n",
        "    This function prints and plots the confusion matrix.\n",
        "    Normalization can be applied by setting `normalize=True`.\n",
        "    \"\"\"\n",
        "    if not title:\n",
        "        if normalize:\n",
        "            title = 'Normalized confusion matrix'\n",
        "        else:\n",
        "            title = 'Confusion matrix, without normalization'\n",
        "\n",
        "    # Compute confusion matrix\n",
        "    cm = confusion_matrix(y_true, y_pred)\n",
        "    # Only use the labels that appear in the data\n",
        "    classes = classes[unique_labels(y_true, y_pred)]\n",
        "    if normalize:\n",
        "        cm = cm.astype('float') / cm.sum(axis=1)[:, np.newaxis]\n",
        "        print(\"Normalized confusion matrix\")\n",
        "    else:\n",
        "        print('Confusion matrix, without normalization')\n",
        "\n",
        "    print(cm)\n",
        "\n",
        "    fig, ax = plt.subplots()\n",
        "    im = ax.imshow(cm, interpolation='nearest', cmap=cmap)\n",
        "    ax.figure.colorbar(im, ax=ax)\n",
        "    # We want to show all ticks...\n",
        "    ax.set(xticks=np.arange(cm.shape[1]),\n",
        "           yticks=np.arange(cm.shape[0]),\n",
        "           # ... and label them with the respective list entries\n",
        "           xticklabels=classes, yticklabels=classes,\n",
        "           title=title,\n",
        "           ylabel='True label',\n",
        "           xlabel='Predicted label')\n",
        "\n",
        "    # Rotate the tick labels and set their alignment.\n",
        "    plt.setp(ax.get_xticklabels(), rotation=45, ha=\"right\",\n",
        "             rotation_mode=\"anchor\")\n",
        "\n",
        "    # Loop over data dimensions and create text annotations.\n",
        "    fmt = '.2f' if normalize else 'd'\n",
        "    thresh = cm.max() / 2.\n",
        "    for i in range(cm.shape[0]):\n",
        "        for j in range(cm.shape[1]):\n",
        "            ax.text(j, i, format(cm[i, j], fmt),\n",
        "                    ha=\"center\", va=\"center\",\n",
        "                    color=\"white\" if cm[i, j] > thresh else \"black\")\n",
        "    fig.tight_layout()\n",
        "    return ax\n"
      ],
      "metadata": {
        "id": "9vjdtrx7G6XL"
      },
      "execution_count": null,
      "outputs": []
    },
    {
      "cell_type": "code",
      "source": [
        "#! mkdir ~/.kaggle"
      ],
      "metadata": {
        "id": "ieWFltZdXPsE"
      },
      "execution_count": null,
      "outputs": []
    },
    {
      "cell_type": "code",
      "source": [
        "! chmod 600 ~/.kaggle/kaggle.json"
      ],
      "metadata": {
        "id": "XPUAwwqZZ7-y"
      },
      "execution_count": null,
      "outputs": []
    },
    {
      "cell_type": "code",
      "source": [
        "#! kaggle competitions download -c aptos2019-blindness-detection"
      ],
      "metadata": {
        "colab": {
          "base_uri": "https://localhost:8080/"
        },
        "id": "7JiPHI8_aPjO",
        "outputId": "31dd9ae4-5a3b-43fc-b4d4-aa8b380f70c7"
      },
      "execution_count": null,
      "outputs": [
        {
          "output_type": "stream",
          "name": "stdout",
          "text": [
            "Downloading aptos2019-blindness-detection.zip to /content\n",
            "100% 9.51G/9.51G [05:08<00:00, 31.6MB/s]\n",
            "100% 9.51G/9.51G [05:08<00:00, 33.1MB/s]\n"
          ]
        }
      ]
    },
    {
      "cell_type": "code",
      "source": [
        "#!unzip -q aptos2019-blindness-detection.zip\n",
        "#!ls"
      ],
      "metadata": {
        "id": "tToh-UngaPxV",
        "colab": {
          "base_uri": "https://localhost:8080/"
        },
        "outputId": "2cd6825e-31e4-4fb9-d0f6-8764c7e1a1e5"
      },
      "execution_count": null,
      "outputs": [
        {
          "output_type": "stream",
          "name": "stdout",
          "text": [
            "aptos2019-blindness-detection.zip  sample_data\t\t  test.csv     train.csv\n",
            "drive\t\t\t\t   sample_submission.csv  test_images  train_images\n"
          ]
        }
      ]
    },
    {
      "cell_type": "code",
      "source": [
        "'''\n",
        "!mv /content/train_images /content/drive/MyDrive/cfPublicData/aptos/\n",
        "!mv /content/sample_submission.csv /content/drive/MyDrive/cfPublicData/aptos/\n",
        "!mv /content/test.csv /content/drive/MyDrive/cfPublicData/aptos/\n",
        "!mv /content/train.csv /content/drive/MyDrive/cfPublicData/aptos/\n",
        "'''"
      ],
      "metadata": {
        "id": "szJ_sXxYaP1U"
      },
      "execution_count": null,
      "outputs": []
    },
    {
      "cell_type": "code",
      "source": [
        "'''\n",
        "for foldername, subfolders, filenames in os.walk('/content/'):\n",
        "    for filename in filenames:\n",
        "        if filename.endswith('.zip'):\n",
        "            file_path = os.path.join(foldername, filename)\n",
        "            os.remove(file_path)\n",
        "            #print(f\"Deleted: {file_path}\")\n",
        "'''"
      ],
      "metadata": {
        "id": "VX0benu_aP5M"
      },
      "execution_count": null,
      "outputs": []
    },
    {
      "cell_type": "code",
      "source": [
        "def load_raw_images_df(data_frame,filenamecol,labelcol,img_size,n_classes):\n",
        "    n_images = len(data_frame)\n",
        "    X = np.empty((n_images,img_size,img_size,3))\n",
        "    Y = np.zeros((n_images,n_classes))\n",
        "    for index,entry in data_frame.iterrows():\n",
        "        Y[index,entry[labelcol]] = 1 # one hot encoding of the label\n",
        "        # Load the image and resize\n",
        "        img = cv2.imread(entry[filenamecol])\n",
        "        X[index,:] = cv2.resize(img, (img_size, img_size))\n",
        "        X[index,:] = X[index,:] / 255.0\n",
        "    return X,Y"
      ],
      "metadata": {
        "id": "XSrAaKGhAmpj"
      },
      "execution_count": null,
      "outputs": []
    },
    {
      "cell_type": "code",
      "source": [
        "batch_size = 32\n",
        "img_size = 224"
      ],
      "metadata": {
        "id": "jkv0fFOAAvJL"
      },
      "execution_count": null,
      "outputs": []
    },
    {
      "cell_type": "code",
      "source": [
        "train_raw_data = pd.read_csv('/content/drive/MyDrive/cfPublicData/aptos/train.csv')\n",
        "train_raw_data[\"filename\"] = train_raw_data[\"id_code\"].map(lambda x:os.path.join('/content/drive/MyDrive/cfPublicData/aptos/train_images',x+\".png\"))\n",
        "train_raw_data.diagnosis.hist() # See the distribution of the classes\n",
        "# train_raw_data.dtypes\n",
        "\n",
        "# # train_data[\"diagnosis\"] = train_data[\"diagnosis\"].astype(str)\n",
        "# # print(train_data.head())\n",
        "# # print(train_data.diagnosis.unique()) # Look at different types of classes\n",
        "# # labels = list(map(str,range(5)))\n",
        "# # print(labels)"
      ],
      "metadata": {
        "colab": {
          "base_uri": "https://localhost:8080/",
          "height": 448
        },
        "id": "C1Gy36CK_8FU",
        "outputId": "130818b1-bce0-4a94-b9e5-11d5b57a30bf"
      },
      "execution_count": null,
      "outputs": [
        {
          "output_type": "execute_result",
          "data": {
            "text/plain": [
              "<Axes: >"
            ]
          },
          "metadata": {},
          "execution_count": 13
        },
        {
          "output_type": "display_data",
          "data": {
            "text/plain": [
              "<Figure size 640x480 with 1 Axes>"
            ],
            "image/png": "[encoded data removed]"
          },
          "metadata": {}
        }
      ]
    },
    {
      "cell_type": "code",
      "source": [
        "label_title = {\"0\" : \"No DR\",\"1\" : \"Mild\",\"2\" : \"Moderate\",\"3\" :\"Severe\",\"4\" : \"Proliferative DR\"}\n",
        "class_labels=[\"No DR\",\"Mild\",\"Moderate\",\"Severe\",\"Proliferative DR\"]"
      ],
      "metadata": {
        "id": "PFEv6eEqALOj"
      },
      "execution_count": null,
      "outputs": []
    },
    {
      "cell_type": "code",
      "source": [
        "# Display some images\n",
        "figure, ax = plt.subplots(5,2)\n",
        "ax = ax.flatten()\n",
        "for i,row in train_raw_data.iloc[0:10,:].iterrows():\n",
        "    ax[i].imshow(cv2.imread(os.path.join('/content/drive/MyDrive/cfPublicData/aptos/train_images',row[\"id_code\"]+\".png\")))\n",
        "    ax[i].set_title(label_title[str(row[\"diagnosis\"])])"
      ],
      "metadata": {
        "colab": {
          "base_uri": "https://localhost:8080/",
          "height": 452
        },
        "id": "MS4dSJKMAOBq",
        "outputId": "5d27e53f-c984-4a28-dda0-2d2334458727"
      },
      "execution_count": null,
      "outputs": [
        {
          "output_type": "display_data",
          "data": {
            "text/plain": [
              "<Figure size 640x480 with 10 Axes>"
            ],
            "image/png": "[encoded data removed]"
          },
          "metadata": {}
        }
      ]
    },
    {
      "cell_type": "code",
      "source": [
        "train_df,val_df = train_test_split(train_raw_data,random_state=42,shuffle=True,test_size=0.333)\n",
        "train_df.reset_index(drop=True,inplace=True)\n",
        "val_df.reset_index(drop=True,inplace=True)"
      ],
      "metadata": {
        "id": "RBpNJfHXAON1"
      },
      "execution_count": null,
      "outputs": []
    },
    {
      "cell_type": "code",
      "source": [
        "X_train,Y_train = load_raw_images_df(train_df,\"filename\",\"diagnosis\",img_size,5)\n",
        "X_val,Y_val = load_raw_images_df(val_df,\"filename\",\"diagnosis\",img_size,5)\n"
      ],
      "metadata": {
        "id": "2nHV4YNuAORr"
      },
      "execution_count": null,
      "outputs": []
    },
    {
      "cell_type": "code",
      "source": [
        "unique, counts = np.unique(Y_train, return_counts=True)\n",
        "\n",
        "# Create a dictionary of unique values and counts\n",
        "unique_counts = dict(zip(unique, counts))\n",
        "\n",
        "print(unique_counts)"
      ],
      "metadata": {
        "id": "WatzX5WpeTBg"
      },
      "execution_count": null,
      "outputs": []
    },
    {
      "cell_type": "code",
      "source": [
        "Y_train_labels = np.argmax(Y_train,axis=1)\n"
      ],
      "metadata": {
        "id": "-e3mbaY2320v"
      },
      "execution_count": null,
      "outputs": []
    },
    {
      "cell_type": "code",
      "source": [
        "unique_classes = np.unique(Y_train_labels)\n",
        "class_counts = np.bincount(Y_train_labels)\n",
        "\n",
        "# Calculate class weights manually\n",
        "total_samples = len(Y_train_labels)\n",
        "class_weights = {cls: total_samples / (len(unique_classes) * count)\n",
        "                 for cls, count in zip(unique_classes, class_counts)}\n",
        "cls_wt_dict = dict(enumerate(class_weights))\n",
        "print(class_weights)\n",
        "#print(cls_wt_dict)"
      ],
      "metadata": {
        "colab": {
          "base_uri": "https://localhost:8080/"
        },
        "id": "p5KlqEPCJlFN",
        "outputId": "f953ef8d-8496-4479-b40d-a6bf05a883f7"
      },
      "execution_count": null,
      "outputs": [
        {
          "output_type": "stream",
          "name": "stdout",
          "text": [
            "{0: 0.40397022332506205, 1: 1.9304347826086956, 2: 0.7333333333333333, 3: 3.7282442748091604, 4: 2.6688524590163936}\n"
          ]
        }
      ]
    },
    {
      "cell_type": "code",
      "source": [
        "datagen = ImageDataGenerator(\n",
        "\n",
        "            zoom_range=0.15,  # set range for random zoom\n",
        "        # set mode for filling points outside the input boundaries\n",
        "        fill_mode='constant',\n",
        "        cval=0.,  # value used for fill_mode = \"constant\"\n",
        "        horizontal_flip=True,  # randomly flip images\n",
        "        vertical_flip=True,  # randomly flip images\n",
        ")\n",
        "training_generator = MixupGenerator(X_train, Y_train, batch_size=batch_size, alpha=0.2, datagen=datagen)()"
      ],
      "metadata": {
        "id": "ZPVm1J_8Gmzy"
      },
      "execution_count": null,
      "outputs": []
    },
    {
      "cell_type": "code",
      "source": [
        "def buildModel():\n",
        "    DenseNet121_model = DenseNet121(include_top=False,weights=None,input_tensor=keras.layers.Input(shape=(img_size,img_size,3)))\n",
        "    DenseNet121_model.load_weights('/content/drive/MyDrive/cfPublicData/aptos/input/DenseNet-BC-121-32-no-top.h5')\n",
        "#     model = keras.Sequential()\n",
        "\n",
        "#     model.add(keras.layers.Conv2D(filters = 32, kernel_size = (5,5),padding = 'same',activation ='relu',\n",
        "#                       input_shape = (img_size,img_size,3)))\n",
        "#     model.add(keras.layers.MaxPooling2D(pool_size=(2,2)))\n",
        "\n",
        "#     model.add(keras.layers.Conv2D(filters = 64, kernel_size = (3,3),padding = 'Same',activation ='relu'))\n",
        "#     model.add(keras.layers.MaxPooling2D(pool_size=(2,2), strides=(2,2)))\n",
        "\n",
        "#     model.add(keras.layers.Conv2D(filters =96, kernel_size = (3,3),padding = 'Same',activation ='relu'))\n",
        "#     model.add(keras.layers.MaxPooling2D(pool_size=(2,2), strides=(2,2)))\n",
        "\n",
        "#     model.add(keras.layers.Conv2D(filters = 96, kernel_size = (3,3),padding = 'Same',activation ='relu'))\n",
        "#     model.add(keras.layers.MaxPooling2D(pool_size=(2,2), strides=(2,2)))\n",
        "\n",
        "#     model.add(keras.layers.Flatten())\n",
        "#     model.add(keras.layers.Dense(units = 512, activation = 'relu'))\n",
        "#     model.add(keras.layers.Dense(units = 5, activation = 'softmax'))\n",
        "\n",
        "    p  = keras.layers.GlobalAveragePooling2D()(DenseNet121_model.output)\n",
        "#     fl = keras.layers.Flatten()(p)\n",
        "#     d2 = keras.layers.Dense(units = 1024, activation = 'relu',kernel_regularizer= keras.regularizers.l2(0.001))(p)\n",
        "#     d1 = keras.layers.Dense(units = 512, activation = 'relu',kernel_regularizer= keras.regularizers.l2(0.001))(d2)\n",
        "    d11 = keras.layers.Dense(units = 256, activation = 'relu',kernel_regularizer= keras.regularizers.l2(0.0001))(p)\n",
        "    o1 = keras.layers.Dense(units = 5, activation = 'softmax')(d11)\n",
        "    model = keras.models.Model(inputs = DenseNet121_model.input,outputs = o1)\n",
        "    # Initial learning rate\n",
        "    initial_learning_rate = 0.01\n",
        "\n",
        "    # Define the decay strategy\n",
        "    lr_schedule = ExponentialDecay(\n",
        "      initial_learning_rate=initial_learning_rate,\n",
        "      decay_steps=100000,  # This is an example value; adjust to your dataset size and batch size\n",
        "      decay_rate=0.96,     # This is an example value; adjust according to how you want the learning rate to decay\n",
        "      staircase=True\n",
        "    )\n",
        "    #sgd = keras.optimizers.SGD(learning_rate=0.01, decay=1e-6, momentum=0.9, nesterov=True)\n",
        "    sgd = keras.optimizers.SGD(learning_rate=lr_schedule, momentum=0.9, nesterov=True)\n",
        "    model.compile(optimizer=sgd,loss='categorical_crossentropy', metrics = ['accuracy'])\n",
        "    print(model.summary())\n",
        "    return model"
      ],
      "metadata": {
        "id": "aD5R8BHtJzIF"
      },
      "execution_count": null,
      "outputs": []
    },
    {
      "cell_type": "code",
      "source": [
        "mymodel = buildModel()"
      ],
      "metadata": {
        "id": "eCnBksowLrRW"
      },
      "execution_count": null,
      "outputs": []
    },
    {
      "cell_type": "code",
      "source": [
        "EPOCHS = 10\n",
        "earlystop = keras.callbacks.EarlyStopping(patience=10)\n",
        "learning_rate_reduction = keras.callbacks.ReduceLROnPlateau(monitor='val_acc',\n",
        "                                            patience=2,\n",
        "                                            verbose=1,\n",
        "                                            factor=0.5,\n",
        "                                            min_lr=0.00001)\n",
        "checkpoint = keras.callbacks.ModelCheckpoint('/content/drive/MyDrive/cfPublicData/aptos/working/DenseNet121.h5', monitor='val_loss', verbose=1,\n",
        "                             save_best_only=True, mode='min', save_weights_only = True)\n",
        "qwk = QWKCallback((X_val,Y_val))\n",
        "mycallbacks = [earlystop, learning_rate_reduction,checkpoint,qwk]"
      ],
      "metadata": {
        "id": "dd6Z5WPFRa7S"
      },
      "execution_count": null,
      "outputs": []
    },
    {
      "cell_type": "code",
      "source": [
        "print(qwk)"
      ],
      "metadata": {
        "colab": {
          "base_uri": "https://localhost:8080/"
        },
        "id": "GsjPgzNGSH39",
        "outputId": "14e00e32-48ba-4285-a01b-74dc9caf2914"
      },
      "execution_count": null,
      "outputs": [
        {
          "output_type": "stream",
          "name": "stdout",
          "text": [
            "<__main__.QWKCallback object at 0x799953dc6350>\n"
          ]
        }
      ]
    },
    {
      "cell_type": "code",
      "source": [
        "X_train.shape"
      ],
      "metadata": {
        "colab": {
          "base_uri": "https://localhost:8080/"
        },
        "id": "FPfLFPg84yaO",
        "outputId": "0b89b6e2-89ba-4530-ef76-bda2af8b822b"
      },
      "execution_count": null,
      "outputs": [
        {
          "output_type": "execute_result",
          "data": {
            "text/plain": [
              "(2442, 224, 224, 3)"
            ]
          },
          "metadata": {},
          "execution_count": 53
        }
      ]
    },
    {
      "cell_type": "code",
      "source": [
        "# Warm up the model with class weights\n",
        "EPOCHS = 10\n",
        "history = mymodel.fit_generator(training_generator,steps_per_epoch = X_train.shape[0] // batch_size,epochs = EPOCHS,\n",
        "                         validation_data = (X_val,Y_val),\n",
        "                         validation_steps = 10,\n",
        "                         workers = 2,use_multiprocessing=True,\n",
        "                         verbose=2, callbacks=mycallbacks,\n",
        "                         class_weight=class_weights)"
      ],
      "metadata": {
        "colab": {
          "base_uri": "https://localhost:8080/"
        },
        "id": "ZYFIlWjTSLX3",
        "outputId": "a4d902fb-818b-48f7-9e90-4a50e41830c0"
      },
      "execution_count": null,
      "outputs": [
        {
          "output_type": "stream",
          "name": "stderr",
          "text": [
            "<ipython-input-54-aab7b4faa4b9>:3: UserWarning: `Model.fit_generator` is deprecated and will be removed in a future version. Please use `Model.fit`, which supports generators.\n",
            "  history = mymodel.fit_generator(training_generator,steps_per_epoch = X_train.shape[0] // batch_size,epochs = EPOCHS,\n"
          ]
        },
        {
          "output_type": "stream",
          "name": "stdout",
          "text": [
            "Epoch 1/10\n"
          ]
        },
        {
          "output_type": "stream",
          "name": "stderr",
          "text": [
            "WARNING:tensorflow:Learning rate reduction is conditioned on metric `val_acc` which is not available. Available metrics are: loss,accuracy,val_loss,val_accuracy,lr\n"
          ]
        },
        {
          "output_type": "stream",
          "name": "stdout",
          "text": [
            "\n",
            "Epoch 1: val_loss improved from inf to 1.41289, saving model to /content/drive/MyDrive/cfPublicData/aptos/working/DenseNet121.h5\n"
          ]
        }
      ]
    }
  ]
}