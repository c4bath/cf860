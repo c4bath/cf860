{
  "nbformat": 4,
  "nbformat_minor": 0,
  "metadata": {
    "colab": {
      "provenance": [],
      "gpuType": "T4",
      "authorship_tag": "ABX9TyM7dqZfbe3XsIOvv7UubMgM",
      "include_colab_link": true
    },
    "kernelspec": {
      "name": "python3",
      "display_name": "Python 3"
    },
    "language_info": {
      "name": "python"
    },
    "accelerator": "GPU"
  },
  "cells": [
    {
      "cell_type": "markdown",
      "metadata": {
        "id": "view-in-github",
        "colab_type": "text"
      },
      "source": [
        "<a href=\"https://colab.research.google.com/github/c4bath/cf860/blob/main/AptosDatasetLoader.ipynb\" target=\"_parent\"><img src=\"https://colab.research.google.com/assets/colab-badge.svg\" alt=\"Open In Colab\"/></a>"
      ]
    },
    {
      "cell_type": "markdown",
      "source": [
        "This file:\n",
        "\n",
        "* downloads the APTOS dataset zip file from the Kaggle APTOS 2019 Blindness Detection competition (https://www.kaggle.com/competitions/aptos2019-blindness-detection/data) to google drive\n",
        "\n",
        "* unzips the file\n",
        "\n",
        "* Moves the zip contents to the specified google drive folders"
      ],
      "metadata": {
        "id": "2zjddgDalmkL"
      }
    },
    {
      "cell_type": "code",
      "execution_count": 1,
      "metadata": {
        "id": "DahgcXTvuK_g"
      },
      "outputs": [],
      "source": [
        "! pip install -q kaggle"
      ]
    },
    {
      "cell_type": "code",
      "source": [
        "from google.colab import drive\n",
        "drive.mount('/content/drive')"
      ],
      "metadata": {
        "colab": {
          "base_uri": "https://localhost:8080/"
        },
        "id": "ZNHCX5ODYuiu",
        "outputId": "fbb96c6a-450b-4ae7-f1a4-bfe72759e16b"
      },
      "execution_count": 2,
      "outputs": [
        {
          "output_type": "stream",
          "name": "stdout",
          "text": [
            "Mounted at /content/drive\n"
          ]
        }
      ]
    },
    {
      "cell_type": "code",
      "source": [
        "import os\n",
        "from pathlib import Path"
      ],
      "metadata": {
        "id": "Gq69QeCyVqcd"
      },
      "execution_count": 23,
      "outputs": []
    },
    {
      "cell_type": "code",
      "source": [
        "kaggle_directory = os.path.expanduser(\"~/.kaggle\")\n",
        "\n",
        "# Check if the directory exists\n",
        "if not os.path.exists(kaggle_directory):\n",
        "    # If it doesn't exist, create it\n",
        "    os.makedirs(kaggle_directory)\n",
        "    print(\"Directory created:\", kaggle_directory)\n",
        "else:\n",
        "    print(\"Directory already exists:\", kaggle_directory)"
      ],
      "metadata": {
        "id": "ieWFltZdXPsE",
        "colab": {
          "base_uri": "https://localhost:8080/"
        },
        "outputId": "1c95719b-5c9c-467f-e73e-4df91ada6769"
      },
      "execution_count": 4,
      "outputs": [
        {
          "output_type": "stream",
          "name": "stdout",
          "text": [
            "Directory created: /root/.kaggle\n"
          ]
        }
      ]
    },
    {
      "cell_type": "code",
      "source": [
        "! cp /content/drive/MyDrive/kaggle/kaggle.json ~/.kaggle"
      ],
      "metadata": {
        "id": "ii6qKLhWbisd"
      },
      "execution_count": 5,
      "outputs": []
    },
    {
      "cell_type": "code",
      "source": [
        "! chmod 600 /content/drive/MyDrive/kaggle/kaggle.json"
      ],
      "metadata": {
        "id": "XPUAwwqZZ7-y"
      },
      "execution_count": 6,
      "outputs": []
    },
    {
      "cell_type": "code",
      "source": [
        "! kaggle competitions download -c aptos2019-blindness-detection  -p '/content/drive/MyDrive/downloads'\n"
      ],
      "metadata": {
        "colab": {
          "base_uri": "https://localhost:8080/"
        },
        "id": "7JiPHI8_aPjO",
        "outputId": "ae5a8e90-5da7-4c71-9ece-15bdd72a2406"
      },
      "execution_count": 20,
      "outputs": [
        {
          "output_type": "stream",
          "name": "stdout",
          "text": [
            "Downloading aptos2019-blindness-detection.zip to /content/drive/MyDrive/downloads\n",
            "100% 9.51G/9.51G [07:26<00:00, 22.9MB/s]\n",
            "100% 9.51G/9.51G [07:26<00:00, 22.9MB/s]\n"
          ]
        }
      ]
    },
    {
      "cell_type": "code",
      "source": [
        "!unzip -q /content/drive/MyDrive/downloads/aptos2019-blindness-detection.zip -d /content/drive/MyDrive/extracted_folder/\n",
        "!ls /content/drive/MyDrive/extracted_folder/"
      ],
      "metadata": {
        "id": "tToh-UngaPxV",
        "colab": {
          "base_uri": "https://localhost:8080/"
        },
        "outputId": "37500916-3f58-40f6-aa7b-8fa39690df9b"
      },
      "execution_count": 21,
      "outputs": [
        {
          "output_type": "stream",
          "name": "stdout",
          "text": [
            "sample_submission.csv  test.csv  test_images  train.csv  train_images\n"
          ]
        }
      ]
    },
    {
      "cell_type": "code",
      "source": [
        "folder_path = '/content/drive/MyDrive/cfPublicData/aptos2/'\n",
        "\n",
        "# Create the directory if it does not exist\n",
        "Path(folder_path).mkdir(parents=True, exist_ok=True)\n",
        "\n",
        "!mv /content/drive/MyDrive/extracted_folder/train_images /content/drive/MyDrive/cfPublicData/aptos2/train_images\n",
        "!mv /content/drive/MyDrive/extracted_folder/test_images /content/drive/MyDrive/cfPublicData/aptos2/test_images\n",
        "!mv /content/drive/MyDrive/extracted_folder/sample_submission.csv /content/drive/MyDrive/cfPublicData/aptos2/\n",
        "!mv /content/drive/MyDrive/extracted_folder/test.csv /content/drive/MyDrive/cfPublicData/aptos2/\n",
        "!mv /content/drive/MyDrive/extracted_folder/train.csv /content/drive/MyDrive/cfPublicData/aptos2/\n"
      ],
      "metadata": {
        "id": "szJ_sXxYaP1U"
      },
      "execution_count": 24,
      "outputs": []
    }
  ]
}